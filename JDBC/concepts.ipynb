{
 "cells": [
  {
   "cell_type": "markdown",
   "metadata": {},
   "source": [
    "## What is JDBC ?"
   ]
  },
  {
   "cell_type": "markdown",
   "metadata": {},
   "source": [
    "JDBC (Java Database Connectivity) is an API (Application Programming Interface) in Java that enables applications to interact with databases. It provides a standardized way to connect to a database, execute SQL queries, and retrieve results. JDBC is part of the Java Standard Edition (Java SE) and is commonly used for database operations in Java applications.\n",
    "\n",
    "Key Components of JDBC\n",
    "- JDBC API: The set of interfaces and classes in the java.sql and javax.sql packages that provide methods for database operations.\n",
    "- JDBC Driver: A software component that implements the JDBC API for a specific database (e.g., MySQL, Oracle, PostgreSQL). It acts as a bridge between the Java application and the database."
   ]
  },
  {
   "cell_type": "markdown",
   "metadata": {},
   "source": [
    "## JDBC Architecture"
   ]
  },
  {
   "cell_type": "markdown",
   "metadata": {},
   "source": [
    "![title](jdbc_arch.png)"
   ]
  },
  {
   "cell_type": "markdown",
   "metadata": {},
   "source": []
  }
 ],
 "metadata": {
  "language_info": {
   "name": "python"
  }
 },
 "nbformat": 4,
 "nbformat_minor": 2
}
