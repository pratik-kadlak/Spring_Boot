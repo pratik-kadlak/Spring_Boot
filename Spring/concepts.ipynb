{
 "cells": [
  {
   "cell_type": "markdown",
   "metadata": {},
   "source": [
    "## What is Spring Framework ?"
   ]
  },
  {
   "cell_type": "markdown",
   "metadata": {},
   "source": [
    "Spring is a powerful, lightweight, and open-source Java framework used for building enterprise-level applications. It provides comprehensive infrastructure support for developing Java applications, making it easier to manage dependencies, configure applications, and implement common design patterns.\n",
    "\n",
    "Key Features of Spring Framework\n",
    "Inversion of Control (IoC) – Manages object creation and dependency injection to improve modularity and testability.\n",
    "Aspect-Oriented Programming (AOP) – Separates cross-cutting concerns like logging, security, and transaction management.\n",
    "Spring MVC – A web framework for building scalable, maintainable, and loosely coupled web applications.\n",
    "Spring Boot – A subproject of Spring that simplifies application setup and development with auto-configuration and embedded servers.\n",
    "Spring Data – Simplifies database access, including working with JPA, JDBC, and NoSQL databases.\n",
    "Spring Security – Provides authentication and authorization for applications.\n",
    "Spring Cloud – Helps build cloud-native, microservices-based applications."
   ]
  },
  {
   "cell_type": "markdown",
   "metadata": {},
   "source": [
    "## What is Dependency Injection ?"
   ]
  },
  {
   "cell_type": "markdown",
   "metadata": {},
   "source": [
    "Dependency Injection (DI) is a design pattern used in software development where an object’s dependencies are injected instead of being created inside the object. This helps achieve loose coupling, making the code more flexible, maintainable, and testable."
   ]
  },
  {
   "cell_type": "markdown",
   "metadata": {},
   "source": [
    "## Different Spring Modules"
   ]
  },
  {
   "cell_type": "markdown",
   "metadata": {},
   "source": [
    "![title](modules.png)"
   ]
  },
  {
   "cell_type": "markdown",
   "metadata": {},
   "source": [
    "## What is IoC (Inversion of Control) in Spring?"
   ]
  },
  {
   "cell_type": "markdown",
   "metadata": {},
   "source": [
    "Inversion of Control (IoC) is a design principle in which the control of object creation and dependency management is transferred from the programmer to the Spring IoC container. Instead of manually creating objects and managing their dependencies, Spring handles it automatically."
   ]
  },
  {
   "cell_type": "markdown",
   "metadata": {},
   "source": [
    "## What is an IoC Container?"
   ]
  },
  {
   "cell_type": "markdown",
   "metadata": {},
   "source": [
    "The IoC container in Spring is responsible for:\n",
    "\n",
    "Creating objects (beans).\n",
    "Managing their dependencies.\n",
    "Configuring objects based on annotations or XML.\n",
    "Controlling the lifecycle of objects."
   ]
  },
  {
   "cell_type": "markdown",
   "metadata": {},
   "source": [
    "## Different Ways of Dependency Injection"
   ]
  },
  {
   "cell_type": "markdown",
   "metadata": {},
   "source": [
    "1. Constructor Injection 🏗️\n",
    "In Constructor Injection, dependencies are passed through the class constructor. This ensures that the dependency is set when the object is created and is best suited for mandatory dependencies.\n",
    "Advantages of Constructor Injection\n",
    "✅ Best for mandatory dependencies\n",
    "✅ Ensures immutability (final fields can be used)\n",
    "✅ Encourages clean code\n",
    "\n",
    "2. Setter Injection 🛠️\n",
    "In Setter Injection, dependencies are set using setter methods. This is best for optional dependencies or when properties can be changed after object creation.\n",
    "Advantages of Setter Injection\n",
    "✅ Useful for optional dependencies\n",
    "✅ Allows dependency modification after object creation\n",
    "\n",
    "Disadvantages\n",
    "❌ More code required (extra setter methods)\n",
    "❌ Can lead to mutable objects\n",
    "\n",
    "3. Field Injection 🔧\n",
    "In Field Injection, dependencies are injected directly into class fields using @Autowired. This is the simplest method but is not recommended for complex applications.\n",
    "Advantages of Field Injection\n",
    "✅ Less boilerplate code\n",
    "✅ Easy to implement\n",
    "\n",
    "Disadvantages\n",
    "❌ Tightly coupled – Makes unit testing harder\n",
    "❌ Cannot use final fields (reduces immutability)\n",
    "❌ Difficult to mock for testing\n"
   ]
  },
  {
   "cell_type": "markdown",
   "metadata": {},
   "source": []
  }
 ],
 "metadata": {
  "language_info": {
   "name": "python"
  }
 },
 "nbformat": 4,
 "nbformat_minor": 2
}
